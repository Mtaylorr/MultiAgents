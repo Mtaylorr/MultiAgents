{
 "cells": [
  {
   "cell_type": "markdown",
   "metadata": {},
   "source": [
    "Introduction\n",
    "============\n",
    "\n",
    "C'est une triste histoire bien connue: tous les cent ans, le village de\n",
    "Thierceville est envahi de lycanthropes se transformant en bêtes\n",
    "féroces. Toute personne mordue par une telle créature les rejoint\n",
    "aussitôt, rejoignant les rangs des créatures des ténèbres.\n",
    "\n",
    "Mais cette fois-ci, les villageois ont décidé d'anticiper, et ont invité\n",
    "des apothicaires à s'installer dans le village. La réputation du village\n",
    "a aussi attiré un certain nombre de chasseurs de monstres qui comptent\n",
    "bien débarrasser les lieux de tout danger.\n",
    "\n",
    "Dans ce TP, nous vous proposons de concevoir une simulation du village\n",
    "de Thierceville comprenant les villageois, les loups-garous, les\n",
    "chasseurs et les apothicaires. La simulation du village sera très\n",
    "simplifiée: l'environnement ne sera pas représenté. L'intéraction entre\n",
    "agents se limitera à des actions extrêmement simples et les agents ne\n",
    "chercheront psa à se coordonner. Ces différents aspects des systèmes\n",
    "multi-agents feront l'objet du second TP.\n",
    "\n",
    "Afin de modéliser le village de Thierceville, nous utiliserons la\n",
    "plate-forme `mesa`. `mesa` est une plate-forme multi-agents utilisée\n",
    "pour modéliser notamment des agents situés. Elle intègre notamment un\n",
    "environnement graphique facile d'utilisation ainsi que la possibilité de\n",
    "tracer des courbes sur la simulation. `mesa` est écrite en python et\n",
    "inclut un client léger pour voir les graphiques et la simulation."
   ]
  },
  {
   "cell_type": "markdown",
   "metadata": {},
   "source": [
    "\n",
    "Mise en place\n",
    "=============\n",
    "\n",
    "Pour ce TP et les suivants, vous aurez besoin d'une version récente de\n",
    "python 3, plus spécifiquement une version de python supérieure ou égale\n",
    "à la version 3.7. Si vous n'avez pas encore de version de python\n",
    "installée, je vous recommande [Anaconda](https://www.anaconda.com/). Vous pouvez également\n",
    "installer un IDE si vous le souhaitez, ou développer directement depuis\n",
    "un éditeur de texte en lançant les scripts depuis la ligne de commande.\n",
    "\n",
    "Une fois python installé, vous devrez installer le package `mesa`. Pour\n",
    "ce faire, ouvrez un terminal et tapez:\n",
    "\n",
    "```bash\n",
    "pip install -r requirements.txt\n",
    "```\n",
    "\n",
    "En cas de besoin ou de doute, vous trouverez la documentation de `mesa`\n",
    "ici: <https://mesa.readthedocs.io/en/master/>.\n",
    "\n",
    "Une fois GAMA lancé, téléchargez importez le TP1 situé sur le git\n",
    "data-ensta:\n",
    "\n",
    "```bash\n",
    "git clone foo\n",
    "```\n",
    "\n",
    "Les librairies à importer sont les suivantes:"
   ]
  },
  {
   "cell_type": "code",
   "execution_count": 2,
   "metadata": {},
   "outputs": [],
   "source": [
    "import math\n",
    "import random\n",
    "from collections import defaultdict\n",
    "\n",
    "import tornado, tornado.ioloop\n",
    "import mesa\n",
    "import numpy\n",
    "import pandas\n",
    "import uuid\n",
    "from mesa import space\n",
    "from mesa.batchrunner import BatchRunner\n",
    "from mesa.datacollection import DataCollector\n",
    "from mesa.time import RandomActivation\n",
    "from mesa.visualization.ModularVisualization import ModularServer, VisualizationElement\n",
    "from mesa.visualization.modules import ChartModule"
   ]
  },
  {
   "cell_type": "markdown",
   "metadata": {},
   "source": [
    "Mesa contient la description de plusieurs éléments:\n",
    "\n",
    "- **Le modèle** qui représente les éléments communs à la simulation, qu'il s'agisse\n",
    "    des paramètres en termes de nombres d'agents ou des éléments qui en\n",
    "    sont indépendants. Le modèle est aussi doté d'un *scheduler* qui est\n",
    "    chargé d'activer les agents. Dans le cadre de ce cours, nous\n",
    "    utiliserons systématiquement le `RandomActivation` scheduler qui\n",
    "    active les agents dans un ordre aléatoire.\n"
   ]
  },
  {
   "cell_type": "code",
   "execution_count": 5,
   "metadata": {},
   "outputs": [],
   "source": [
    "class Village(mesa.Model):\n",
    "    def __init__(self, n_villagers):\n",
    "        mesa.Model.__init__(self)\n",
    "        self.space = mesa.space.ContinuousSpace(600, 600, False)\n",
    "        self.schedule = RandomActivation(self)\n",
    "        for _ in range(n_villagers):\n",
    "            self.schedule.add(Villager(random.random() * 500, random.random() * 500, 10, int(uuid.uuid1()), self))\n",
    "\n",
    "    def step(self):\n",
    "        self.schedule.step()\n",
    "        if self.schedule.steps >= 1000:\n",
    "            self.running = False\n"
   ]
  },
  {
   "cell_type": "markdown",
   "metadata": {},
   "source": [
    "- **Les agents** sont des classes qui héritent de la classe `mesa.Agent`. Les autres\n",
    "    éléments incluent surtout des éléments de visualisation: dans ce\n",
    "    modèle comme dans les suivants vous verrez notamment le canvas que\n",
    "    nous utiliserons, c'est à dire l'espace dans lequel se déplacent les\n",
    "    agents. Cet élément correspond à un élément présent dans le\n",
    "    JavaScript, de la même manière que les éléments comme les cercles et\n",
    "    rectangles utilisés pour représenter les agents."
   ]
  },
  {
   "cell_type": "code",
   "execution_count": 4,
   "metadata": {},
   "outputs": [],
   "source": [
    "def wander(x, y, speed, model):\n",
    "    r = random.random() * math.pi * 2\n",
    "    new_x = max(min(x + math.cos(r) * speed, model.space.x_max), model.space.x_min)\n",
    "    new_y = max(min(y + math.sin(r) * speed, model.space.y_max), model.space.y_min)\n",
    "\n",
    "    return new_x, new_y\n",
    "\n",
    "\n",
    "class Villager(mesa.Agent):\n",
    "    def __init__(self, x, y, speed, unique_id: int, model: Village):\n",
    "        super().__init__(unique_id, model)\n",
    "        self.pos = (x, y)\n",
    "        self.speed = speed\n",
    "        self.model = model\n",
    "\n",
    "    def portrayal_method(self):\n",
    "        color = \"blue\"\n",
    "        r = 3\n",
    "        portrayal = {\"Shape\": \"circle\",\n",
    "                     \"Filled\": \"true\",\n",
    "                     \"Layer\": 1,\n",
    "                     \"Color\": color,\n",
    "                     \"r\": r}\n",
    "        return portrayal\n",
    "\n",
    "    def step(self):\n",
    "        self.pos = wander(self.pos[0], self.pos[1], self.speed, self.model)"
   ]
  },
  {
   "cell_type": "markdown",
   "metadata": {},
   "source": [
    "Vous verrez plusieurs éléments pour chaque agent:\n",
    "\n",
    "-   la méthode `step` indique ce que l'agent fait à son tour\n",
    "-   la méthode `portrayal method` indique la manière dont l'agent doit\n",
    "    être représenté sur le simulateur."
   ]
  },
  {
   "cell_type": "markdown",
   "metadata": {},
   "source": [
    "- Le **cannevas** représente la représentation de l'environnement faite sur l'interface graphique. Elle permet aussi de définir où se trouve le javascript dont nous avons besoin pour notre modèle. **Vous n'aurez pas à modifier cette classe**:"
   ]
  },
  {
   "cell_type": "code",
   "execution_count": 5,
   "metadata": {},
   "outputs": [],
   "source": [
    "class ContinuousCanvas(VisualizationElement):\n",
    "    local_includes = [\n",
    "        \"./js/simple_continuous_canvas.js\",\n",
    "    ]\n",
    "\n",
    "    def __init__(self, canvas_height=500,\n",
    "                 canvas_width=500, instantiate=True):\n",
    "        VisualizationElement.__init__(self)\n",
    "        self.canvas_height = canvas_height\n",
    "        self.canvas_width = canvas_width\n",
    "        self.identifier = \"space-canvas\"\n",
    "        if (instantiate):\n",
    "            new_element = (\"new Simple_Continuous_Module({}, {},'{}')\".\n",
    "                           format(self.canvas_width, self.canvas_height, self.identifier))\n",
    "            self.js_code = \"elements.push(\" + new_element + \");\"\n",
    "\n",
    "    def portrayal_method(self, obj):\n",
    "        return obj.portrayal_method()\n",
    "\n",
    "    def render(self, model):\n",
    "        representation = defaultdict(list)\n",
    "        for obj in model.schedule.agents:\n",
    "            portrayal = self.portrayal_method(obj)\n",
    "            if portrayal:\n",
    "                portrayal[\"x\"] = ((obj.pos[0] - model.space.x_min) /\n",
    "                                  (model.space.x_max - model.space.x_min))\n",
    "                portrayal[\"y\"] = ((obj.pos[1] - model.space.y_min) /\n",
    "                                  (model.space.y_max - model.space.y_min))\n",
    "            representation[portrayal[\"Layer\"]].append(portrayal)\n",
    "        return representation"
   ]
  },
  {
   "cell_type": "markdown",
   "metadata": {},
   "source": [
    "Le bloc `main` sert quant à lui de définir la manière dont les blocs\n",
    "graphiques s'agencent. Pour le moment, seul un unique bloc graphique est\n",
    "présent (celui du simulateur). Nous en ajouterons dans la suite de ce\n",
    "TP. Le serverur sert aussi à régler les valeurs des options du modèle,\n",
    "ici le nombre de villageois. Nous verrons dans la suite du TP la manière\n",
    "de régler ces éléments directement dans l'interface graphique du client. Le lancement du serveur est fait dans une fonction afin de pouvoir lancer les batchs dans la suite du TP (*cf.* ci-dessous)\n",
    "\n"
   ]
  },
  {
   "cell_type": "code",
   "execution_count": 6,
   "metadata": {},
   "outputs": [
    {
     "name": "stdout",
     "output_type": "stream",
     "text": [
      "Interface starting at http://127.0.0.1:8521\n"
     ]
    },
    {
     "ename": "RuntimeError",
     "evalue": "This event loop is already running",
     "output_type": "error",
     "traceback": [
      "\u001b[0;31m---------------------------------------------------------------------------\u001b[0m",
      "\u001b[0;31mRuntimeError\u001b[0m                              Traceback (most recent call last)",
      "\u001b[0;32m<ipython-input-6-484233204d61>\u001b[0m in \u001b[0;36m<module>\u001b[0;34m\u001b[0m\n\u001b[1;32m      9\u001b[0m \u001b[0;34m\u001b[0m\u001b[0m\n\u001b[1;32m     10\u001b[0m \u001b[0;32mif\u001b[0m \u001b[0m__name__\u001b[0m \u001b[0;34m==\u001b[0m \u001b[0;34m\"__main__\"\u001b[0m\u001b[0;34m:\u001b[0m\u001b[0;34m\u001b[0m\u001b[0;34m\u001b[0m\u001b[0m\n\u001b[0;32m---> 11\u001b[0;31m     \u001b[0mrun_single_server\u001b[0m\u001b[0;34m(\u001b[0m\u001b[0;34m)\u001b[0m\u001b[0;34m\u001b[0m\u001b[0;34m\u001b[0m\u001b[0m\n\u001b[0m",
      "\u001b[0;32m<ipython-input-6-484233204d61>\u001b[0m in \u001b[0;36mrun_single_server\u001b[0;34m()\u001b[0m\n\u001b[1;32m      5\u001b[0m                            {\"n_villagers\": 25})\n\u001b[1;32m      6\u001b[0m     \u001b[0mserver\u001b[0m\u001b[0;34m.\u001b[0m\u001b[0mport\u001b[0m \u001b[0;34m=\u001b[0m \u001b[0;36m8521\u001b[0m\u001b[0;34m\u001b[0m\u001b[0;34m\u001b[0m\u001b[0m\n\u001b[0;32m----> 7\u001b[0;31m     \u001b[0mserver\u001b[0m\u001b[0;34m.\u001b[0m\u001b[0mlaunch\u001b[0m\u001b[0;34m(\u001b[0m\u001b[0;34m)\u001b[0m\u001b[0;34m\u001b[0m\u001b[0;34m\u001b[0m\u001b[0m\n\u001b[0m\u001b[1;32m      8\u001b[0m \u001b[0;34m\u001b[0m\u001b[0m\n\u001b[1;32m      9\u001b[0m \u001b[0;34m\u001b[0m\u001b[0m\n",
      "\u001b[0;32m~/anaconda3/lib/python3.8/site-packages/mesa/visualization/ModularVisualization.py\u001b[0m in \u001b[0;36mlaunch\u001b[0;34m(self, port, open_browser)\u001b[0m\n\u001b[1;32m    335\u001b[0m             \u001b[0mwebbrowser\u001b[0m\u001b[0;34m.\u001b[0m\u001b[0mopen\u001b[0m\u001b[0;34m(\u001b[0m\u001b[0murl\u001b[0m\u001b[0;34m)\u001b[0m\u001b[0;34m\u001b[0m\u001b[0;34m\u001b[0m\u001b[0m\n\u001b[1;32m    336\u001b[0m         \u001b[0mtornado\u001b[0m\u001b[0;34m.\u001b[0m\u001b[0mautoreload\u001b[0m\u001b[0;34m.\u001b[0m\u001b[0mstart\u001b[0m\u001b[0;34m(\u001b[0m\u001b[0;34m)\u001b[0m\u001b[0;34m\u001b[0m\u001b[0;34m\u001b[0m\u001b[0m\n\u001b[0;32m--> 337\u001b[0;31m         \u001b[0mtornado\u001b[0m\u001b[0;34m.\u001b[0m\u001b[0mioloop\u001b[0m\u001b[0;34m.\u001b[0m\u001b[0mIOLoop\u001b[0m\u001b[0;34m.\u001b[0m\u001b[0mcurrent\u001b[0m\u001b[0;34m(\u001b[0m\u001b[0;34m)\u001b[0m\u001b[0;34m.\u001b[0m\u001b[0mstart\u001b[0m\u001b[0;34m(\u001b[0m\u001b[0;34m)\u001b[0m\u001b[0;34m\u001b[0m\u001b[0;34m\u001b[0m\u001b[0m\n\u001b[0m",
      "\u001b[0;32m~/anaconda3/lib/python3.8/site-packages/tornado/platform/asyncio.py\u001b[0m in \u001b[0;36mstart\u001b[0;34m(self)\u001b[0m\n\u001b[1;32m    147\u001b[0m             \u001b[0mself\u001b[0m\u001b[0;34m.\u001b[0m\u001b[0m_setup_logging\u001b[0m\u001b[0;34m(\u001b[0m\u001b[0;34m)\u001b[0m\u001b[0;34m\u001b[0m\u001b[0;34m\u001b[0m\u001b[0m\n\u001b[1;32m    148\u001b[0m             \u001b[0masyncio\u001b[0m\u001b[0;34m.\u001b[0m\u001b[0mset_event_loop\u001b[0m\u001b[0;34m(\u001b[0m\u001b[0mself\u001b[0m\u001b[0;34m.\u001b[0m\u001b[0masyncio_loop\u001b[0m\u001b[0;34m)\u001b[0m\u001b[0;34m\u001b[0m\u001b[0;34m\u001b[0m\u001b[0m\n\u001b[0;32m--> 149\u001b[0;31m             \u001b[0mself\u001b[0m\u001b[0;34m.\u001b[0m\u001b[0masyncio_loop\u001b[0m\u001b[0;34m.\u001b[0m\u001b[0mrun_forever\u001b[0m\u001b[0;34m(\u001b[0m\u001b[0;34m)\u001b[0m\u001b[0;34m\u001b[0m\u001b[0;34m\u001b[0m\u001b[0m\n\u001b[0m\u001b[1;32m    150\u001b[0m         \u001b[0;32mfinally\u001b[0m\u001b[0;34m:\u001b[0m\u001b[0;34m\u001b[0m\u001b[0;34m\u001b[0m\u001b[0m\n\u001b[1;32m    151\u001b[0m             \u001b[0masyncio\u001b[0m\u001b[0;34m.\u001b[0m\u001b[0mset_event_loop\u001b[0m\u001b[0;34m(\u001b[0m\u001b[0mold_loop\u001b[0m\u001b[0;34m)\u001b[0m\u001b[0;34m\u001b[0m\u001b[0;34m\u001b[0m\u001b[0m\n",
      "\u001b[0;32m~/anaconda3/lib/python3.8/asyncio/base_events.py\u001b[0m in \u001b[0;36mrun_forever\u001b[0;34m(self)\u001b[0m\n\u001b[1;32m    558\u001b[0m         \u001b[0;34m\"\"\"Run until stop() is called.\"\"\"\u001b[0m\u001b[0;34m\u001b[0m\u001b[0;34m\u001b[0m\u001b[0m\n\u001b[1;32m    559\u001b[0m         \u001b[0mself\u001b[0m\u001b[0;34m.\u001b[0m\u001b[0m_check_closed\u001b[0m\u001b[0;34m(\u001b[0m\u001b[0;34m)\u001b[0m\u001b[0;34m\u001b[0m\u001b[0;34m\u001b[0m\u001b[0m\n\u001b[0;32m--> 560\u001b[0;31m         \u001b[0mself\u001b[0m\u001b[0;34m.\u001b[0m\u001b[0m_check_running\u001b[0m\u001b[0;34m(\u001b[0m\u001b[0;34m)\u001b[0m\u001b[0;34m\u001b[0m\u001b[0;34m\u001b[0m\u001b[0m\n\u001b[0m\u001b[1;32m    561\u001b[0m         \u001b[0mself\u001b[0m\u001b[0;34m.\u001b[0m\u001b[0m_set_coroutine_origin_tracking\u001b[0m\u001b[0;34m(\u001b[0m\u001b[0mself\u001b[0m\u001b[0;34m.\u001b[0m\u001b[0m_debug\u001b[0m\u001b[0;34m)\u001b[0m\u001b[0;34m\u001b[0m\u001b[0;34m\u001b[0m\u001b[0m\n\u001b[1;32m    562\u001b[0m         \u001b[0mself\u001b[0m\u001b[0;34m.\u001b[0m\u001b[0m_thread_id\u001b[0m \u001b[0;34m=\u001b[0m \u001b[0mthreading\u001b[0m\u001b[0;34m.\u001b[0m\u001b[0mget_ident\u001b[0m\u001b[0;34m(\u001b[0m\u001b[0;34m)\u001b[0m\u001b[0;34m\u001b[0m\u001b[0;34m\u001b[0m\u001b[0m\n",
      "\u001b[0;32m~/anaconda3/lib/python3.8/asyncio/base_events.py\u001b[0m in \u001b[0;36m_check_running\u001b[0;34m(self)\u001b[0m\n\u001b[1;32m    550\u001b[0m     \u001b[0;32mdef\u001b[0m \u001b[0m_check_running\u001b[0m\u001b[0;34m(\u001b[0m\u001b[0mself\u001b[0m\u001b[0;34m)\u001b[0m\u001b[0;34m:\u001b[0m\u001b[0;34m\u001b[0m\u001b[0;34m\u001b[0m\u001b[0m\n\u001b[1;32m    551\u001b[0m         \u001b[0;32mif\u001b[0m \u001b[0mself\u001b[0m\u001b[0;34m.\u001b[0m\u001b[0mis_running\u001b[0m\u001b[0;34m(\u001b[0m\u001b[0;34m)\u001b[0m\u001b[0;34m:\u001b[0m\u001b[0;34m\u001b[0m\u001b[0;34m\u001b[0m\u001b[0m\n\u001b[0;32m--> 552\u001b[0;31m             \u001b[0;32mraise\u001b[0m \u001b[0mRuntimeError\u001b[0m\u001b[0;34m(\u001b[0m\u001b[0;34m'This event loop is already running'\u001b[0m\u001b[0;34m)\u001b[0m\u001b[0;34m\u001b[0m\u001b[0;34m\u001b[0m\u001b[0m\n\u001b[0m\u001b[1;32m    553\u001b[0m         \u001b[0;32mif\u001b[0m \u001b[0mevents\u001b[0m\u001b[0;34m.\u001b[0m\u001b[0m_get_running_loop\u001b[0m\u001b[0;34m(\u001b[0m\u001b[0;34m)\u001b[0m \u001b[0;32mis\u001b[0m \u001b[0;32mnot\u001b[0m \u001b[0;32mNone\u001b[0m\u001b[0;34m:\u001b[0m\u001b[0;34m\u001b[0m\u001b[0;34m\u001b[0m\u001b[0m\n\u001b[1;32m    554\u001b[0m             raise RuntimeError(\n",
      "\u001b[0;31mRuntimeError\u001b[0m: This event loop is already running"
     ]
    },
    {
     "name": "stdout",
     "output_type": "stream",
     "text": [
      "Socket opened!\n",
      "{\"type\":\"reset\"}\n",
      "Socket opened!\n",
      "{\"type\":\"reset\"}\n",
      "{\"type\":\"get_step\",\"step\":1}\n",
      "{\"type\":\"get_step\",\"step\":2}\n",
      "{\"type\":\"get_step\",\"step\":3}\n",
      "{\"type\":\"get_step\",\"step\":4}\n",
      "{\"type\":\"get_step\",\"step\":5}\n",
      "{\"type\":\"get_step\",\"step\":6}\n",
      "{\"type\":\"get_step\",\"step\":7}\n",
      "{\"type\":\"get_step\",\"step\":8}\n",
      "{\"type\":\"get_step\",\"step\":9}\n",
      "{\"type\":\"get_step\",\"step\":10}\n",
      "{\"type\":\"get_step\",\"step\":11}\n",
      "{\"type\":\"get_step\",\"step\":12}\n",
      "{\"type\":\"get_step\",\"step\":13}\n",
      "{\"type\":\"get_step\",\"step\":14}\n",
      "{\"type\":\"get_step\",\"step\":15}\n",
      "{\"type\":\"get_step\",\"step\":16}\n",
      "{\"type\":\"get_step\",\"step\":17}\n"
     ]
    }
   ],
   "source": [
    "\n",
    "def run_single_server():\n",
    "    server = ModularServer(Village,\n",
    "                           [ContinuousCanvas()],\n",
    "                           \"Village\",\n",
    "                           {\"n_villagers\": 25})\n",
    "    server.port = 8521\n",
    "    server.launch()\n",
    "\n",
    "    \n",
    "if __name__ == \"__main__\":\n",
    "    run_single_server()\n"
   ]
  },
  {
   "cell_type": "markdown",
   "metadata": {},
   "source": [
    "Cela lancera d'un côté le serveur python qui fera tourner le code du\n",
    "modèle et des agents, et le code du client html/JavaScript. Cela devrait\n",
    "aussi lancer votre navigateur sur la page du simulateur. Si la page ne\n",
    "s\"ouvre pas et que le serveur python s'est lancé, ouvrez votre\n",
    "navigateur et ouvrez l'URL `http://127.0.0.1:8521/`.\n",
    "\n",
    "L'interface graphique de mesa se présente comme la figure ci-dessous. L'entête de la\n",
    "page continent le nom du modèle (ici Village). Le bouton `About` permet\n",
    "d'avoir accès à la description du modèle. Cela peut en particulier\n",
    "permettre d'expliquer à un utilisateur tiers ce qui est vu à l'écran et\n",
    "l'analyser. Sur la partie droite de l'entête, les trois boutons\n",
    "permettent de contrôler le déroulement de la simulation: un bouton\n",
    "permettant de lancer ou mettre en pause la sumilation, un permettant de\n",
    "faire un unique tour et un permettant de la remettre à zéro.\n",
    "\n",
    "Sous l'entête se trouve une barre permettant de régler le nombre de\n",
    "tours de simulation par seconde. Plus ce nombre sera important, plus la\n",
    "simulation ira vite. Notez cependant qu'un nombre de tours par seconde\n",
    "réglé à 0 permettra de faire tourner la simulation à sa vitesse\n",
    "maximale. Le nombre de tours écoulés se trouve sous la barre. Au-dessous\n",
    "se trouve la fenêtre de simulation, où on peut voir les agents"
   ]
  },
  {
   "cell_type": "markdown",
   "metadata": {},
   "source": [
    "![./GUI.png](./GUI.png)"
   ]
  },
  {
   "cell_type": "markdown",
   "metadata": {},
   "source": [
    "Il vous est possible de stopper le serveur avec les lignes ci-dessous. Notez que jupyter vous indiquera que le kernel est stoppé et qu'il sera relancé. Acceptez."
   ]
  },
  {
   "cell_type": "code",
   "execution_count": 7,
   "metadata": {},
   "outputs": [],
   "source": [
    "import tornado, tornado.ioloop\n",
    "tornado.ioloop.IOLoop.current().stop()"
   ]
  },
  {
   "cell_type": "markdown",
   "metadata": {},
   "source": [
    "Implémentation de la simulation\n",
    "===============================\n",
    "\n",
    "La simulation donnée est très simple, et ne donne une représentation que\n",
    "des agents `Villagers`. La première partie de ce TP consiste à la\n",
    "compléter."
   ]
  },
  {
   "cell_type": "markdown",
   "metadata": {},
   "source": [
    "Les lycanthropes\n",
    "----------------\n",
    "\n",
    "La première tâche consistera à implémenter le fait qu'une personne\n",
    "puisse être un lycanthrope. Pour cela, nous allons enrichir l'espèce\n",
    "personne. Ajoutez à la classe `Villager` un booléen indiquant\n",
    "si la personne est un loup-garou. Faites en sorte que les lycanthropes\n",
    "soient affichés en rouge. Il doit y avoir 5 lycanthropes au départ de la\n",
    "simulation. Dans le modèle, il vous est possible d'ajouter un paramètre\n",
    "de la même manière que `n_villagers`. Ce paramètre doit figurer\n",
    "dans le constructeur du modèle `Village.__init__`, mais aussi\n",
    "dans la création de ce modèle, sous la forme d'une chaîne de caractère\n",
    "dans la liste constituant le dernier paramètre du constructeur de\n",
    "`ModularServer`.\n",
    "\n",
    "``` python\n",
    "class Village(mesa.Model):\n",
    "    def __init__(self, n_villagers):\n",
    "        mesa.Model.__init__(self)\n",
    "        #...\n",
    "        for _ in range(n_villagers):\n",
    "            self.schedule.add(Villager(random.random() * 600,\n",
    "                random.random() * 600, 10,\n",
    "                random.randint(1, 600), self))\n",
    "#...\n",
    "if __name__ == \"__main__\":\n",
    "        server = ModularServer(Village,\n",
    "                           [ContinuousCanvas],\n",
    "                           \"Village\",\n",
    "                           {\"n_villagers\": 20})\n",
    "        #...\n",
    "```\n",
    "\n",
    "Les lycanthropes peuvent se trouver dans deux états: transformés ou non.\n",
    "Afin de les différentier, changer la taille des lycanthropes transformés\n",
    "et faites la passer à 6. Initialement, les lycanthropes ne sont pas\n",
    "transformés. Ils se transforment de manière aléatoire, avec une\n",
    "probabilité de 10%. Pour ajouter un nouveau comportement au lycanthrope,\n",
    "il vous faudra modifier la méthode `step`.\n",
    "\n",
    "Lorsqu'un lycanthrope est transformé, il peut s'attaquer à une autre\n",
    "personne si celle-ci est à une portée de 40. Modifiez à nouveau la\n",
    "méthode `step` de manière à permettre à un lycanthrope de\n",
    "s'attaquer à une personne. Pour implémenter ce nouveau comportement, je\n",
    "vous recommande vivement de vous appuyer sur des *list comprehensions*.\n",
    "Si vous ne connaissez pas les list comprehensions, *merci de l'indiquer\n",
    "dans le fichier* `responses.md`. L'autre difficulté de ce réflexe est\n",
    "qu'il agit sur l'autre personne. Lorsqu'un lycanthrope attaque une\n",
    "personne, il la transforme en lycanthrope.\n",
    "\n",
    "**Question 1-** Comment avez-vous fait pour que l'autre agent soit\n",
    "modifié? Cela vous paraît-il compatible de la définition d'agent que\n",
    "vous avez vue en cours? Argumentez votre réponse."
   ]
  },
  {
   "cell_type": "markdown",
   "metadata": {},
   "source": [
    "*Insérez votre réponse ici*"
   ]
  },
  {
   "cell_type": "markdown",
   "metadata": {},
   "source": [
    "Les apothicaires\n",
    "----------------\n",
    "\n",
    "Créez une classe `Cleric`. Ces agents ont les mêmes capacités\n",
    "de déplacement que les villageois. Donnez-lui pour aspect un cercle de\n",
    "rayon 3 et de couleur verte. Les apothicaires ont un comportement de\n",
    "soin, leur permettant de rechanger un lycanthrope en humain à condition\n",
    "que ce dernier soit à une distance de 30 et qu'elle ne soit pas\n",
    "transformée. La simulation prend en compte un unique `Cleric`."
   ]
  },
  {
   "cell_type": "markdown",
   "metadata": {},
   "source": [
    "Les chasseurs\n",
    "-------------\n",
    "\n",
    "Créez une classe `Hunter`. Ces agents sont capables de se\n",
    "déplacer de la même manière que les villageois. Dans la simulation, les\n",
    "chasseurs seront représentés par un cercle noir de rayon 3. Implémentez\n",
    "le comportement de chasse des chasseurs: ils sont capables de tuer un\n",
    "lycanthrope si celui-ci est transformé et s'il se trouve à une distance\n",
    "de 40. Tuer un agent se fait en le supprimant du\n",
    "`Model.schedule`. Il y a 2 chasseurs dans notre simulation."
   ]
  },
  {
   "cell_type": "markdown",
   "metadata": {},
   "source": [
    "La simulation est maintenant complète! Vous pouvez la lancer et en\n",
    "observer le résultat.\n",
    "\n",
    "**Question 2-** Commentez le résultat de la simulation: Vers quoi le\n",
    "système converge-t-il? En combien de cycles? À votre avis, quel est\n",
    "l'impact de la présence de l'apothicaire? Celui de la quantité d'agents\n",
    "de chaque espèce? Justifiez votre réponse"
   ]
  },
  {
   "cell_type": "markdown",
   "metadata": {},
   "source": [
    "*Insérez votre réponse ici*"
   ]
  },
  {
   "cell_type": "markdown",
   "metadata": {},
   "source": [
    "Expérimentations\n",
    "================\n",
    "\n",
    "Maintenant que vous avez exprimé des conjectures, il va falloir les\n",
    "tester. Pour cela, il va falloir améliorer les simulations."
   ]
  },
  {
   "cell_type": "markdown",
   "metadata": {},
   "source": [
    "Graphiques\n",
    "----------\n",
    "\n",
    "Nous allons commencer par créer des indicateurs permettant de mesurer\n",
    "plus finement la manière dont le système évolue. Mesa intègre un\n",
    "environnement d'expérimentation que nous allons exploiter.\n",
    "\n",
    "Nous allons laisser l'affichage de la simulation et afficher au-dessous\n",
    "les graphiques. Un graphique est un `VizualizationElement`, et\n",
    "plus particulièrement un `ChartModule`. En parallèle, il va\n",
    "falloir rassembler des informations que nous souhaitons afficher. Pour\n",
    "ce faire, nous allons utiliser un `DataCollector`. Le\n",
    "DataCollector est un nouveau champ du modèle. Attention, gardez le nom\n",
    "du champ que vous allez utiliser, il vous sera nécessaire par la suite.\n",
    "\n",
    "L'utilisation du DataCollector se fait en l'initialisant dans le modèle.\n",
    "Le constructeur de DataCollector prend en entrée un dictionnaire de\n",
    "`model_reporters`, ayant d'un côté un nom (qu'il vous faudra\n",
    "aussi garder en tête) et une fonction associant au modèle une valeur.\n",
    "Notez que dans ce cadre, l'utilisation des `lambda` vous sera\n",
    "très utile. Si vous ne connaissez pas les lambda expressions, *merci de\n",
    "l'indiquer dans le fichier* `responses.md`.\n",
    "\n",
    "Implémentez un graphique affichant le nombre de personnes (non\n",
    "lycanthropes) en fonction du temps. Lancez à nouveau la simulation. Vous\n",
    "voyez maintenant deux parties, incluant la courbe que vous avez créée.\n",
    "Lorsque vous lancez la simulation, vous voyez la valeur de votre\n",
    "métrique évoluer en direct, comme le montre la figure ci-dessous."
   ]
  },
  {
   "cell_type": "markdown",
   "metadata": {},
   "source": [
    "![Graphe](./chart.PNG)"
   ]
  },
  {
   "cell_type": "markdown",
   "metadata": {},
   "source": [
    "Retournez à la fenêtre d'édition. Nous allons ajouter d'autres métriques\n",
    "à notre page, afin de créer un tableau de bord qui permette de se faire\n",
    "une meilleure idée de l'évolution du système. Tentez d'ajouter d'autres\n",
    "graphes à l'onglet. Ajoutez trois graphes au tableau de bord\n",
    "représentant le nombre de lycanthropes, le nombre de lycanthropes\n",
    "transformés et le nombre total d'agents.\n",
    "\n",
    "**Question 3-** Enregistrez les courbes encliquant avec le bouton droit\n",
    "sur la courbe, puis \"Enregistrez l'image sous...\" et comparez ces\n",
    "résultats à vos conjectures. Qu'en concluez-vous?"
   ]
  },
  {
   "cell_type": "markdown",
   "metadata": {},
   "source": [
    "*Insérez votre réponse ici*"
   ]
  },
  {
   "cell_type": "markdown",
   "metadata": {},
   "source": [
    "Variations de paramètres\n",
    "------------------------\n",
    "\n",
    "Voyons maintenant comment on peut faire varier les paramètres pour\n",
    "observer leur influence sur l'expérimentation. Un moyen est de changer à\n",
    "la main les valeurs entrées dans le code et relancer les simulations les\n",
    "unes après les autres. Mais cela n'est pas pratique, et demande de\n",
    "revenir sans arrêt au code. Il est donc possible d'ajouter des\n",
    "paramètres à l'expérimentation afin de les faire varier directement dans\n",
    "la perspective correspondante. Pour cela, il faut les déclarer\n",
    "directement dans le lancement du serveur, dans les paramètres permettant\n",
    "de lancer le serveur et changer le type des paramètres par un\n",
    "`ModularVisualization.UserSettableParameter`. Ici, nous\n",
    "utiliserons des `slider`, des sélecteurs utilisés pour les plages de\n",
    "valeur:\n",
    "\n",
    "```python\n",
    "mesa.visualization.ModularVisualization.UserSettableParameter('slider',\n",
    "        \"name of slider\", default_value, minimal_value, maximal_value, interval)\n",
    "```"
   ]
  },
  {
   "cell_type": "markdown",
   "metadata": {},
   "source": [
    "**Question 4-** Ajoutez aux paramètres le nombre de villageois sains, le\n",
    "nombre de lycanthropes, le nombre de chasseurs et le nombre\n",
    "d'apothicaires. Enregistrez les courbes qui vous paraissent pertinentes\n",
    "et commentez-les. Cela correspond-il à vos hypothèses? Qu'en\n",
    "concluez-vous?\n"
   ]
  },
  {
   "cell_type": "markdown",
   "metadata": {},
   "source": [
    "*Insérez votre réponse ici*"
   ]
  },
  {
   "cell_type": "markdown",
   "metadata": {},
   "source": [
    "**Question 5-** Sans faire les expériences associées, quels sont, selon\n",
    "vous, les paramètres qui auraient une influence sur le résultat de la\n",
    "simulation? Argumentez ces hypothèses."
   ]
  },
  {
   "cell_type": "markdown",
   "metadata": {},
   "source": [
    "*Insérez votre réponse ici*"
   ]
  },
  {
   "cell_type": "markdown",
   "metadata": {},
   "source": [
    "Plan d'expérience\n",
    "-----------------\n",
    "\n",
    "Même en ajoutant les paramètres à la fenêtre de simulation, il peut\n",
    "s'avérer long et fastidieux de tester une batterie de valeurs pour un\n",
    "même paramètre. mesa intègre le moyen de créer plusieurs simulations en\n",
    "faisant varier (ou non) ces paramètres. Pour cela, nous allons utiliser\n",
    "les `batch`.\n",
    "\n",
    "Dans cette partie, nous cherchons à évaluer l'impact du nombre\n",
    "d'apothicaires dans un village avec 1 chasseur."
   ]
  },
  {
   "cell_type": "markdown",
   "metadata": {},
   "source": [
    "**Question 6-** Formulez une hypothèse argumentée sur le résultat de\n",
    "cette expérience."
   ]
  },
  {
   "cell_type": "markdown",
   "metadata": {},
   "source": [
    "*Insérez votre réponse ici*"
   ]
  },
  {
   "cell_type": "markdown",
   "metadata": {},
   "source": [
    "Pour cela, créez une nouvelle fonction `run_batch()` après la\n",
    "fonction `run_single_server()`. Cette fonction créera d'abord\n",
    "un dictionnaire qui donnera pour chaque paramètre de la fonction\n",
    "`__init__()` du modèle `Village` une plage de valeur.\n",
    "Les valeurs de `n_villagers`, `n_werewolves`,\n",
    "`n_hunters`, respectivement à 50, 5 et 1. Le paramètre\n",
    "`n_clerics` variera lui dans `range(0, 6, 1)`. Une\n",
    "fois ce dictionnaire créé, instanciez un `Batchrunner`. Voici\n",
    "la signature de son constructeur:\n",
    "`BatchRunner(model, params_dict, model_reporter)`. Vous\n",
    "utiliserez le même `model_reporter` que pour le modèle\n",
    "individuel. Lancez le batchrun grâce à la méthode\n",
    "`BatchRunner.run_all()`\n",
    "\n",
    "Ce `model_reporter` vous permettra de récupérer une\n",
    "`pandas.DataFrame` en utilisant la méthode\n",
    "`BatchRunner.get_model_vars_dataframe()`."
   ]
  },
  {
   "cell_type": "markdown",
   "metadata": {},
   "source": [
    "**Question 7-** Comment interprétez-vous les résultats de cette\n",
    "expérience? Qu'en concluez-vous?"
   ]
  },
  {
   "cell_type": "markdown",
   "metadata": {},
   "source": [
    "*Insérez votre réponse ici*"
   ]
  },
  {
   "cell_type": "markdown",
   "metadata": {},
   "source": [
    "Bonus\n",
    "-----\n",
    "\n",
    "Supposons que l'on souhaite faire varier toutes les variables, sur\n",
    "toutes les valeurs permises par les `slider`; quel problème\n",
    "voyez-vous? Comment peut-on le résoudre? Cherchez dans la documentation\n",
    "de mesa et implémentez votre solution."
   ]
  },
  {
   "cell_type": "markdown",
   "metadata": {},
   "source": [
    "*Insérez votre réponse ici*"
   ]
  },
  {
   "cell_type": "markdown",
   "metadata": {},
   "source": [
    "**Si certains éléments du framework mesa vous ont posé problème, merci\n",
    "de l'indiquer à la fin du fichier** `reponses.md`\n"
   ]
  }
 ],
 "metadata": {
  "kernelspec": {
   "display_name": "Python 3",
   "language": "python",
   "name": "python3"
  },
  "language_info": {
   "codemirror_mode": {
    "name": "ipython",
    "version": 3
   },
   "file_extension": ".py",
   "mimetype": "text/x-python",
   "name": "python",
   "nbconvert_exporter": "python",
   "pygments_lexer": "ipython3",
   "version": "3.8.3"
  }
 },
 "nbformat": 4,
 "nbformat_minor": 4
}
