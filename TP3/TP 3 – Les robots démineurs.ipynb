{
 "cells": [
  {
   "cell_type": "markdown",
   "metadata": {},
   "source": [
    "# Introduction\n",
    "\n",
    "Dans ce TP, nous allons étudier un système inspiré du \\textsl{Mars Explorer} de Luc Steels un peu modifié. La problématique est la suivante: un endroit impénétrable aux ondes a été miné, et le but est de le déminer. Pour cela, on emploie une équipe de robots capables de détecter les mines et de les désarmer. Puisqu'il est impossible de communiquer avec l'intérieur de l'endroit, les machines doivent constituer un système autonome et efficace. Les agents décrits dans le cadre de ce TP sont basés sur les principes des agents réactifs et permettent de résoudre ce problème.\n"
   ]
  },
  {
   "cell_type": "code",
   "execution_count": 1,
   "metadata": {},
   "outputs": [],
   "source": [
    "import enum\n",
    "import math\n",
    "import random\n",
    "import uuid\n",
    "from enum import Enum\n",
    "\n",
    "import mesa\n",
    "import numpy as np\n",
    "from collections import defaultdict\n",
    "\n",
    "import mesa.space\n",
    "from mesa import Agent, Model\n",
    "from mesa.datacollection import DataCollector\n",
    "from mesa.time import RandomActivation\n",
    "from mesa.visualization.ModularVisualization import VisualizationElement, ModularServer\n",
    "from mesa.visualization.modules import ChartModule\n",
    "\n",
    "MAX_ITERATION = 100\n",
    "PROBA_CHGT_ANGLE = 0.01\n"
   ]
  },
  {
   "cell_type": "markdown",
   "metadata": {},
   "source": [
    "L'environnement est composé de trois éléments principaux:\n",
    "\n",
    "- les mines sont les objets que le robot doit détecter. Une fois une mine détectée, le robot se place aux mêmes coordonnées qu'elle et le détruit,\n",
    "- les obstacles sont des éléments qui ne doivent pas être détruits. De plus, un robot ne doit jamais se retrouver sur un obstacle, ce qui comprend son emplacement et un rayon de 2 unités autour de lui.\n",
    "- des sables mouvants, qui ralentissent les agents (ils vont alors à la moitié de leur vitesse normale)"
   ]
  },
  {
   "cell_type": "code",
   "execution_count": 2,
   "metadata": {},
   "outputs": [],
   "source": [
    "class Obstacle:  # Environnement: obstacle\n",
    "    def __init__(self, x, y, r):\n",
    "        self.x = x\n",
    "        self.y = y\n",
    "        self.r = r\n",
    "\n",
    "    def portrayal_method(self):\n",
    "        portrayal = {\"Shape\": \"circle\",\n",
    "                     \"Filled\": \"true\",\n",
    "                     \"Layer\": 1,\n",
    "                     \"Color\": \"black\",\n",
    "                     \"r\": self.r}\n",
    "        return portrayal\n",
    "\n",
    "\n",
    "class Quicksand:  # Environnement: ralentissement\n",
    "    def __init__(self, x, y, r):\n",
    "        self.x = x\n",
    "        self.y = y\n",
    "        self.r = r\n",
    "\n",
    "    def portrayal_method(self):\n",
    "        portrayal = {\"Shape\": \"circle\",\n",
    "                     \"Filled\": \"true\",\n",
    "                     \"Layer\": 1,\n",
    "                     \"Color\": \"olive\",\n",
    "                     \"r\": self.r}\n",
    "        return portrayal\n",
    "\n",
    "\n",
    "class Mine:  # Environnement: élément à ramasser\n",
    "    def __init__(self, x, y):\n",
    "        self.x = x\n",
    "        self.y = y\n",
    "\n",
    "    def portrayal_method(self):\n",
    "        portrayal = {\"Shape\": \"circle\",\n",
    "                     \"Filled\": \"true\",\n",
    "                     \"Layer\": 2,\n",
    "                     \"Color\": \"black\",\n",
    "                     \"r\": 2}\n",
    "        return portrayal\n",
    "\n"
   ]
  },
  {
   "cell_type": "markdown",
   "metadata": {},
   "source": [
    "Enfin, les robots doivent s'éviter. On supposera qu'ils ne doivent jamais se croiser. Voici le code concernant le Canvas:"
   ]
  },
  {
   "cell_type": "code",
   "execution_count": 3,
   "metadata": {},
   "outputs": [],
   "source": [
    "class ContinuousCanvas(VisualizationElement):\n",
    "    local_includes = [\n",
    "        \"./js/simple_continuous_canvas.js\",\n",
    "    ]\n",
    "\n",
    "    def __init__(self, canvas_height=500,\n",
    "                 canvas_width=500, instantiate=True):\n",
    "        VisualizationElement.__init__(self)\n",
    "        self.canvas_height = canvas_height\n",
    "        self.canvas_width = canvas_width\n",
    "        self.identifier = \"space-canvas\"\n",
    "        if (instantiate):\n",
    "            new_element = (\"new Simple_Continuous_Module({}, {},'{}')\".\n",
    "                           format(self.canvas_width, self.canvas_height, self.identifier))\n",
    "            self.js_code = \"elements.push(\" + new_element + \");\"\n",
    "\n",
    "    def portrayal_method(self, obj):\n",
    "        return obj.portrayal_method()\n",
    "\n",
    "    def render(self, model):\n",
    "        representation = defaultdict(list)\n",
    "        for obj in model.schedule.agents:\n",
    "            portrayal = self.portrayal_method(obj)\n",
    "            if portrayal:\n",
    "                portrayal[\"x\"] = ((obj.x - model.space.x_min) /\n",
    "                                  (model.space.x_max - model.space.x_min))\n",
    "                portrayal[\"y\"] = ((obj.y - model.space.y_min) /\n",
    "                                  (model.space.y_max - model.space.y_min))\n",
    "            representation[portrayal[\"Layer\"]].append(portrayal)\n",
    "        for obj in model.mines:\n",
    "            portrayal = self.portrayal_method(obj)\n",
    "            if portrayal:\n",
    "                portrayal[\"x\"] = ((obj.x - model.space.x_min) /\n",
    "                                  (model.space.x_max - model.space.x_min))\n",
    "                portrayal[\"y\"] = ((obj.y - model.space.y_min) /\n",
    "                                  (model.space.y_max - model.space.y_min))\n",
    "            representation[portrayal[\"Layer\"]].append(portrayal)\n",
    "        for obj in model.markers:\n",
    "            portrayal = self.portrayal_method(obj)\n",
    "            if portrayal:\n",
    "                portrayal[\"x\"] = ((obj.x - model.space.x_min) /\n",
    "                                  (model.space.x_max - model.space.x_min))\n",
    "                portrayal[\"y\"] = ((obj.y - model.space.y_min) /\n",
    "                                  (model.space.y_max - model.space.y_min))\n",
    "            representation[portrayal[\"Layer\"]].append(portrayal)\n",
    "        for obj in model.obstacles:\n",
    "            portrayal = self.portrayal_method(obj)\n",
    "            if portrayal:\n",
    "                portrayal[\"x\"] = ((obj.x - model.space.x_min) /\n",
    "                                  (model.space.x_max - model.space.x_min))\n",
    "                portrayal[\"y\"] = ((obj.y - model.space.y_min) /\n",
    "                                  (model.space.y_max - model.space.y_min))\n",
    "            representation[portrayal[\"Layer\"]].append(portrayal)\n",
    "        for obj in model.quicksands:\n",
    "            portrayal = self.portrayal_method(obj)\n",
    "            if portrayal:\n",
    "                portrayal[\"x\"] = ((obj.x - model.space.x_min) /\n",
    "                                  (model.space.x_max - model.space.x_min))\n",
    "                portrayal[\"y\"] = ((obj.y - model.space.y_min) /\n",
    "                                  (model.space.y_max - model.space.y_min))\n",
    "            representation[portrayal[\"Layer\"]].append(portrayal)\n",
    "        return representation\n"
   ]
  },
  {
   "cell_type": "markdown",
   "metadata": {},
   "source": [
    "# Description basique du robot\n",
    "Le robot est doté d'un certain nombre de capacités primaires: il peut se déplacer, détecter un obstacle ou un autre robot à éviter, détecter une mine et la détruire. Voici les comportements attendus par le robot:\n",
    "- **Se déplacer** lorsque le robot est à la recherche de mines, il se déplace de manière rectiligne, à une vitesse `speed` et selon un angle `angle`. Selon une probabilité fixée par avance (`PROBA_CHGT_ANGLE`), le robot peut changer de direction. Dans ce cas, son nouvel angle est un angle aléatoire choisi.\n",
    "- **Éviter un autre robot** Lorsqu'un ou plusieurs autres robots se trouve à portée de détection, le robot calcule son futur mouvement et vérifie si les robots à portée pourraient entrer en collision avec lui. Puisqu'il ne connaît que la position des autres robots et non leur angle, il considère qu'une collision est possible si sa position au tour suivant ou n'importe quelle position intermédiaire entre sa position actuelle et sa position future se trouvent à une distance inférieure à la vitesse maximale de l'autre robot. Si c'est le cas, il modifie son angle jusqu'à trouver un angle où il n'y ait pas de collision.\n",
    "- **Éviter un obstacle / les bords de l'environnement** Si un robot détecte un ou plusieurs obstacles, il procède au même calcul, mais il considère qu'une collision est possible si sa future position est dans l'obstacle.  Pour simplifier, on ne prendra pas en compte le fait qu'un robot puisse traverser un obstacle.\n",
    "- **Détruire une mine** Lorsqu'un agent se trouve sur une mine, il la désamorce (dans mesa, il la retire du `model`). Détruire une mine est une action qui peut être menée en plus du déplacement.\n",
    "- **Se diriger vers une mine** Lorsqu'un agent détecte une mine, il se dirige vers la mine à sa vitesse, sans prendre en compte ni modifier son angle."
   ]
  },
  {
   "cell_type": "code",
   "execution_count": 4,
   "metadata": {},
   "outputs": [],
   "source": [
    "class Robot(Agent):  # La classe des agents\n",
    "    def __init__(self, unique_id: int, model: Model, x, y, speed, sight_distance, angle=0.0):\n",
    "        super().__init__(unique_id, model)\n",
    "        self.x = x\n",
    "        self.y = y\n",
    "        self.speed = speed\n",
    "        self.sight_distance = sight_distance\n",
    "        self.angle = angle\n",
    "        self.counter = 0\n",
    "\n",
    "    def step(self):\n",
    "        pass  # TODO L'intégralité du code du TP peut être ajoutée ici.\n",
    "\n",
    "    def portrayal_method(self):\n",
    "        portrayal = {\"Shape\": \"arrowHead\", \"s\": 1, \"Filled\": \"true\", \"Color\": \"Red\", \"Layer\": 3, 'x': self.x,\n",
    "                     'y': self.y, \"angle\": self.angle}\n",
    "        return portrayal\n"
   ]
  },
  {
   "cell_type": "markdown",
   "metadata": {},
   "source": [
    "Vous pouvez vous appuyer sur ces deux fonctions: "
   ]
  },
  {
   "cell_type": "code",
   "execution_count": 5,
   "metadata": {},
   "outputs": [],
   "source": [
    "def move(x, y, speed, angle):  # se déplacer de speed selon l'angle angle depuis x, y\n",
    "    return x + speed * math.cos(angle), y + speed * math.sin(angle)\n",
    "\n",
    "\n",
    "def go_to(x, y, speed, dest_x, dest_y):  # se déplacer de speed vers (dest_x, dest_y) ou si la speed est trop importante s'y arrêter.\n",
    "    if np.linalg.norm((x - dest_x, y - dest_y)) < speed:\n",
    "        return (dest_x, dest_y), 2 * math.pi * random.random()\n",
    "    else:\n",
    "        angle = math.acos((dest_x - x)/np.linalg.norm((x - dest_x, y - dest_y)))\n",
    "        if dest_y < y:\n",
    "            angle = - angle\n",
    "        return move(x, y, speed, angle), angle\n"
   ]
  },
  {
   "cell_type": "markdown",
   "metadata": {},
   "source": [
    "Enfin, le modèle et le lancement du serveur:"
   ]
  },
  {
   "cell_type": "code",
   "execution_count": 6,
   "metadata": {},
   "outputs": [
    {
     "name": "stdout",
     "output_type": "stream",
     "text": [
      "Interface starting at http://127.0.0.1:8521\n"
     ]
    },
    {
     "ename": "RuntimeError",
     "evalue": "This event loop is already running",
     "output_type": "error",
     "traceback": [
      "\u001b[0;31m---------------------------------------------------------------------------\u001b[0m",
      "\u001b[0;31mRuntimeError\u001b[0m                              Traceback (most recent call last)",
      "\u001b[0;32m<ipython-input-6-e651d609d2eb>\u001b[0m in \u001b[0;36m<module>\u001b[0;34m\u001b[0m\n\u001b[1;32m     73\u001b[0m \u001b[0;34m\u001b[0m\u001b[0m\n\u001b[1;32m     74\u001b[0m \u001b[0;32mif\u001b[0m \u001b[0m__name__\u001b[0m \u001b[0;34m==\u001b[0m \u001b[0;34m\"__main__\"\u001b[0m\u001b[0;34m:\u001b[0m\u001b[0;34m\u001b[0m\u001b[0;34m\u001b[0m\u001b[0m\n\u001b[0;32m---> 75\u001b[0;31m     \u001b[0mrun_single_server\u001b[0m\u001b[0;34m(\u001b[0m\u001b[0;34m)\u001b[0m\u001b[0;34m\u001b[0m\u001b[0;34m\u001b[0m\u001b[0m\n\u001b[0m\u001b[1;32m     76\u001b[0m \u001b[0;34m\u001b[0m\u001b[0m\n",
      "\u001b[0;32m<ipython-input-6-e651d609d2eb>\u001b[0m in \u001b[0;36mrun_single_server\u001b[0;34m()\u001b[0m\n\u001b[1;32m     69\u001b[0m                             ModularVisualization.UserSettableParameter('slider', \"Number of mines\", 15, 5, 30, 1)})\n\u001b[1;32m     70\u001b[0m     \u001b[0mserver\u001b[0m\u001b[0;34m.\u001b[0m\u001b[0mport\u001b[0m \u001b[0;34m=\u001b[0m \u001b[0;36m8521\u001b[0m\u001b[0;34m\u001b[0m\u001b[0;34m\u001b[0m\u001b[0m\n\u001b[0;32m---> 71\u001b[0;31m     \u001b[0mserver\u001b[0m\u001b[0;34m.\u001b[0m\u001b[0mlaunch\u001b[0m\u001b[0;34m(\u001b[0m\u001b[0;34m)\u001b[0m\u001b[0;34m\u001b[0m\u001b[0;34m\u001b[0m\u001b[0m\n\u001b[0m\u001b[1;32m     72\u001b[0m \u001b[0;34m\u001b[0m\u001b[0m\n\u001b[1;32m     73\u001b[0m \u001b[0;34m\u001b[0m\u001b[0m\n",
      "\u001b[0;32m~/anaconda3/lib/python3.8/site-packages/mesa/visualization/ModularVisualization.py\u001b[0m in \u001b[0;36mlaunch\u001b[0;34m(self, port, open_browser)\u001b[0m\n\u001b[1;32m    335\u001b[0m             \u001b[0mwebbrowser\u001b[0m\u001b[0;34m.\u001b[0m\u001b[0mopen\u001b[0m\u001b[0;34m(\u001b[0m\u001b[0murl\u001b[0m\u001b[0;34m)\u001b[0m\u001b[0;34m\u001b[0m\u001b[0;34m\u001b[0m\u001b[0m\n\u001b[1;32m    336\u001b[0m         \u001b[0mtornado\u001b[0m\u001b[0;34m.\u001b[0m\u001b[0mautoreload\u001b[0m\u001b[0;34m.\u001b[0m\u001b[0mstart\u001b[0m\u001b[0;34m(\u001b[0m\u001b[0;34m)\u001b[0m\u001b[0;34m\u001b[0m\u001b[0;34m\u001b[0m\u001b[0m\n\u001b[0;32m--> 337\u001b[0;31m         \u001b[0mtornado\u001b[0m\u001b[0;34m.\u001b[0m\u001b[0mioloop\u001b[0m\u001b[0;34m.\u001b[0m\u001b[0mIOLoop\u001b[0m\u001b[0;34m.\u001b[0m\u001b[0mcurrent\u001b[0m\u001b[0;34m(\u001b[0m\u001b[0;34m)\u001b[0m\u001b[0;34m.\u001b[0m\u001b[0mstart\u001b[0m\u001b[0;34m(\u001b[0m\u001b[0;34m)\u001b[0m\u001b[0;34m\u001b[0m\u001b[0;34m\u001b[0m\u001b[0m\n\u001b[0m",
      "\u001b[0;32m~/anaconda3/lib/python3.8/site-packages/tornado/platform/asyncio.py\u001b[0m in \u001b[0;36mstart\u001b[0;34m(self)\u001b[0m\n\u001b[1;32m    147\u001b[0m             \u001b[0mself\u001b[0m\u001b[0;34m.\u001b[0m\u001b[0m_setup_logging\u001b[0m\u001b[0;34m(\u001b[0m\u001b[0;34m)\u001b[0m\u001b[0;34m\u001b[0m\u001b[0;34m\u001b[0m\u001b[0m\n\u001b[1;32m    148\u001b[0m             \u001b[0masyncio\u001b[0m\u001b[0;34m.\u001b[0m\u001b[0mset_event_loop\u001b[0m\u001b[0;34m(\u001b[0m\u001b[0mself\u001b[0m\u001b[0;34m.\u001b[0m\u001b[0masyncio_loop\u001b[0m\u001b[0;34m)\u001b[0m\u001b[0;34m\u001b[0m\u001b[0;34m\u001b[0m\u001b[0m\n\u001b[0;32m--> 149\u001b[0;31m             \u001b[0mself\u001b[0m\u001b[0;34m.\u001b[0m\u001b[0masyncio_loop\u001b[0m\u001b[0;34m.\u001b[0m\u001b[0mrun_forever\u001b[0m\u001b[0;34m(\u001b[0m\u001b[0;34m)\u001b[0m\u001b[0;34m\u001b[0m\u001b[0;34m\u001b[0m\u001b[0m\n\u001b[0m\u001b[1;32m    150\u001b[0m         \u001b[0;32mfinally\u001b[0m\u001b[0;34m:\u001b[0m\u001b[0;34m\u001b[0m\u001b[0;34m\u001b[0m\u001b[0m\n\u001b[1;32m    151\u001b[0m             \u001b[0masyncio\u001b[0m\u001b[0;34m.\u001b[0m\u001b[0mset_event_loop\u001b[0m\u001b[0;34m(\u001b[0m\u001b[0mold_loop\u001b[0m\u001b[0;34m)\u001b[0m\u001b[0;34m\u001b[0m\u001b[0;34m\u001b[0m\u001b[0m\n",
      "\u001b[0;32m~/anaconda3/lib/python3.8/asyncio/base_events.py\u001b[0m in \u001b[0;36mrun_forever\u001b[0;34m(self)\u001b[0m\n\u001b[1;32m    558\u001b[0m         \u001b[0;34m\"\"\"Run until stop() is called.\"\"\"\u001b[0m\u001b[0;34m\u001b[0m\u001b[0;34m\u001b[0m\u001b[0m\n\u001b[1;32m    559\u001b[0m         \u001b[0mself\u001b[0m\u001b[0;34m.\u001b[0m\u001b[0m_check_closed\u001b[0m\u001b[0;34m(\u001b[0m\u001b[0;34m)\u001b[0m\u001b[0;34m\u001b[0m\u001b[0;34m\u001b[0m\u001b[0m\n\u001b[0;32m--> 560\u001b[0;31m         \u001b[0mself\u001b[0m\u001b[0;34m.\u001b[0m\u001b[0m_check_running\u001b[0m\u001b[0;34m(\u001b[0m\u001b[0;34m)\u001b[0m\u001b[0;34m\u001b[0m\u001b[0;34m\u001b[0m\u001b[0m\n\u001b[0m\u001b[1;32m    561\u001b[0m         \u001b[0mself\u001b[0m\u001b[0;34m.\u001b[0m\u001b[0m_set_coroutine_origin_tracking\u001b[0m\u001b[0;34m(\u001b[0m\u001b[0mself\u001b[0m\u001b[0;34m.\u001b[0m\u001b[0m_debug\u001b[0m\u001b[0;34m)\u001b[0m\u001b[0;34m\u001b[0m\u001b[0;34m\u001b[0m\u001b[0m\n\u001b[1;32m    562\u001b[0m         \u001b[0mself\u001b[0m\u001b[0;34m.\u001b[0m\u001b[0m_thread_id\u001b[0m \u001b[0;34m=\u001b[0m \u001b[0mthreading\u001b[0m\u001b[0;34m.\u001b[0m\u001b[0mget_ident\u001b[0m\u001b[0;34m(\u001b[0m\u001b[0;34m)\u001b[0m\u001b[0;34m\u001b[0m\u001b[0;34m\u001b[0m\u001b[0m\n",
      "\u001b[0;32m~/anaconda3/lib/python3.8/asyncio/base_events.py\u001b[0m in \u001b[0;36m_check_running\u001b[0;34m(self)\u001b[0m\n\u001b[1;32m    550\u001b[0m     \u001b[0;32mdef\u001b[0m \u001b[0m_check_running\u001b[0m\u001b[0;34m(\u001b[0m\u001b[0mself\u001b[0m\u001b[0;34m)\u001b[0m\u001b[0;34m:\u001b[0m\u001b[0;34m\u001b[0m\u001b[0;34m\u001b[0m\u001b[0m\n\u001b[1;32m    551\u001b[0m         \u001b[0;32mif\u001b[0m \u001b[0mself\u001b[0m\u001b[0;34m.\u001b[0m\u001b[0mis_running\u001b[0m\u001b[0;34m(\u001b[0m\u001b[0;34m)\u001b[0m\u001b[0;34m:\u001b[0m\u001b[0;34m\u001b[0m\u001b[0;34m\u001b[0m\u001b[0m\n\u001b[0;32m--> 552\u001b[0;31m             \u001b[0;32mraise\u001b[0m \u001b[0mRuntimeError\u001b[0m\u001b[0;34m(\u001b[0m\u001b[0;34m'This event loop is already running'\u001b[0m\u001b[0;34m)\u001b[0m\u001b[0;34m\u001b[0m\u001b[0;34m\u001b[0m\u001b[0m\n\u001b[0m\u001b[1;32m    553\u001b[0m         \u001b[0;32mif\u001b[0m \u001b[0mevents\u001b[0m\u001b[0;34m.\u001b[0m\u001b[0m_get_running_loop\u001b[0m\u001b[0;34m(\u001b[0m\u001b[0;34m)\u001b[0m \u001b[0;32mis\u001b[0m \u001b[0;32mnot\u001b[0m \u001b[0;32mNone\u001b[0m\u001b[0;34m:\u001b[0m\u001b[0;34m\u001b[0m\u001b[0;34m\u001b[0m\u001b[0m\n\u001b[1;32m    554\u001b[0m             raise RuntimeError(\n",
      "\u001b[0;31mRuntimeError\u001b[0m: This event loop is already running"
     ]
    },
    {
     "name": "stdout",
     "output_type": "stream",
     "text": [
      "Socket opened!\n",
      "{\"type\":\"reset\"}\n"
     ]
    }
   ],
   "source": [
    "class MinedZone(Model):\n",
    "    collector = DataCollector(\n",
    "        model_reporters={\"Mines\": lambda model: len(model.mines),\n",
    "                         \"Danger markers\": lambda model: len([m for m in model.markers if\n",
    "                                                          m.purpose == MarkerPurpose.DANGER]),\n",
    "                         \"Indication markers\": lambda model: len([m for m in model.markers if\n",
    "                                                          m.purpose == MarkerPurpose.INDICATION]),\n",
    "                         },\n",
    "        agent_reporters={})\n",
    "\n",
    "    def __init__(self, n_robots, n_obstacles, n_quicksand, n_mines, speed):\n",
    "        Model.__init__(self)\n",
    "        self.space = mesa.space.ContinuousSpace(600, 600, False)\n",
    "        self.schedule = RandomActivation(self)\n",
    "        self.mines = []\n",
    "        self.markers = []\n",
    "        self.obstacles = []\n",
    "        self.quicksands = []\n",
    "        for _ in range(n_obstacles):\n",
    "            self.obstacles.append(Obstacle(random.random() * 500, random.random() * 500, 10 + 20 * random.random()))\n",
    "        for _ in range(n_quicksand):\n",
    "            self.quicksands.append(Quicksand(random.random() * 500, random.random() * 500, 10 + 20 * random.random()))\n",
    "        for _ in range(n_robots):\n",
    "            x, y = random.random() * 500, random.random() * 500\n",
    "            while [o for o in self.obstacles if np.linalg.norm((o.x - x, o.y - y)) < o.r] or \\\n",
    "                    [o for o in self.quicksands if np.linalg.norm((o.x - x, o.y - y)) < o.r]:\n",
    "                x, y = random.random() * 500, random.random() * 500\n",
    "            self.schedule.add(\n",
    "                Robot(int(uuid.uuid1()), self, x, y, speed,\n",
    "                      2 * speed, random.random() * 2 * math.pi))\n",
    "        for _ in range(n_mines):\n",
    "            x, y = random.random() * 500, random.random() * 500\n",
    "            while [o for o in self.obstacles if np.linalg.norm((o.x - x, o.y - y)) < o.r] or \\\n",
    "                    [o for o in self.quicksands if np.linalg.norm((o.x - x, o.y - y)) < o.r]:\n",
    "                x, y = random.random() * 500, random.random() * 500\n",
    "            self.mines.append(Mine(x, y))\n",
    "        self.datacollector = self.collector\n",
    "\n",
    "    def step(self):\n",
    "        self.datacollector.collect(self)\n",
    "        self.schedule.step()\n",
    "        if not self.mines:\n",
    "            self.running = False\n",
    "\n",
    "\n",
    "def run_single_server():\n",
    "    chart = ChartModule([{\"Label\": \"Mines\",\n",
    "                          \"Color\": \"Orange\"},\n",
    "                         {\"Label\": \"Danger markers\",\n",
    "                          \"Color\": \"Red\"},\n",
    "                         {\"Label\": \"Indication markers\",\n",
    "                          \"Color\": \"Green\"}\n",
    "                         ],\n",
    "                        data_collector_name='datacollector')\n",
    "    server = ModularServer(MinedZone,\n",
    "                           [ContinuousCanvas(),\n",
    "                            chart],\n",
    "                           \"Deminer robots\",\n",
    "                           {\"n_robots\": mesa.visualization.\n",
    "                            ModularVisualization.UserSettableParameter('slider', \"Number of robots\", 7, 3,\n",
    "                                                                       15, 1),\n",
    "                            \"n_obstacles\": mesa.visualization.\n",
    "                            ModularVisualization.UserSettableParameter('slider', \"Number of obstacles\", 5, 2, 10, 1),\n",
    "                            \"n_quicksand\": mesa.visualization.\n",
    "                            ModularVisualization.UserSettableParameter('slider', \"Number of quicksand\", 5, 2, 10, 1),\n",
    "                            \"speed\": mesa.visualization.\n",
    "                            ModularVisualization.UserSettableParameter('slider', \"Robot speed\", 15, 5, 40, 5),\n",
    "                            \"n_mines\": mesa.visualization.\n",
    "                            ModularVisualization.UserSettableParameter('slider', \"Number of mines\", 15, 5, 30, 1)})\n",
    "    server.port = 8521\n",
    "    server.launch()\n",
    "\n",
    "\n",
    "if __name__ == \"__main__\":\n",
    "    run_single_server()\n",
    "\n"
   ]
  },
  {
   "cell_type": "markdown",
   "metadata": {},
   "source": [
    "**Question 1** – Quelle architecture vous paraît la plus à même de traiter ce problème ?"
   ]
  },
  {
   "cell_type": "markdown",
   "metadata": {},
   "source": [
    "*Insérez votre réponse ici*"
   ]
  },
  {
   "cell_type": "markdown",
   "metadata": {},
   "source": [
    "**Question 2** –  Il est capital que les robots ne rentrent pas en collision les uns avec les autres. Cela prime sur chacun de leurs déplacement. Proposer un ordre de priorité pour les comportements décrits ci-dessus qui respecte cette contrainte et permette aux robots d'accomplir leur mission (NB, il est possible que plusieurs comportements doivent être fusionnés)"
   ]
  },
  {
   "cell_type": "markdown",
   "metadata": {},
   "source": [
    "*Insérez votre réponse ici*"
   ]
  },
  {
   "cell_type": "markdown",
   "metadata": {},
   "source": [
    "Implémentez l'ordre que vous proposé précédemment. Ajoutez une métrique représentant le cumul des mines désamorcées à chaque tour. Enregistrez ce graphe et joignez le à votre TP. Lancez la simulation une dizaine de fois et donnez le temps moyen de désamorçage de toutes les mines."
   ]
  },
  {
   "cell_type": "markdown",
   "metadata": {},
   "source": [
    "*![Insérez votre image entre les parenthèses →]()*"
   ]
  },
  {
   "cell_type": "markdown",
   "metadata": {},
   "source": [
    "**Question 3** – Quels principes des agents réactifs sont ici respectés? Lesquels ne le sont pas? Justifiez."
   ]
  },
  {
   "cell_type": "markdown",
   "metadata": {},
   "source": [
    "# Communication indirecte\n",
    "\n",
    "Pour faire communiquer nos robots, nous allons utiliser l'environnement. Nous allons utiliser des balises (`marker`), comme Steels le décrit pour le *Mars Explorer*. Les robots ont deux types balises. Un agent dépose une balise `DANGER` lorsqu'il sort de sables mouvants, afin que les autres agents n'y pénètrent pas, et une balise `INDICATION`, déposée lorsque l'agent démine, et qui indique dans quelle direction il est allé. Un agent qui détecte une balise `DANGER` fera demi-tour. Un agent détectant une balise `INDICATION` modifie son angle afin de se déplacer à 90° dans une direction ou l'autre par rapport à l'angle indiqué sur la balise. Un robot détectant une balise se déplace jusqu'à elle, la ramasse et fait demi-tour.\n",
    "\n",
    "Plus formellement, voici la description des comportements attendus pour le robot:\n",
    "- **Faire demi-tour** Lorsqu'un agent détecte une balise `DANGER`, il fait demi-tour.\n",
    "- **Tourner à 90°** Lorsqu'un agent détecte une balise `INDICATION`, il se dirige à 90° de la direction indiquée par la balise\n",
    "- **Déposer une balise** Lorsqu'un agent vient de sortir des sables mouvants, un agent dépose une balise `DANGER`; lorsqu'un agent démine, il dépose une balise `INDICATION` dont la `direction` indique la direction dans laquelle se dirige l'agent. Attention, pour éviter que le robot ne soit influencé par la balise qu'il vient de déposer, un compteur de tour est initialisé à `speed/2` durant lequel le robot ignore les balises qu'il voit.\n",
    "\n",
    "La classe de balise a déjà été implémentée:"
   ]
  },
  {
   "cell_type": "code",
   "execution_count": null,
   "metadata": {},
   "outputs": [],
   "source": [
    "class MarkerPurpose(Enum):  # Enum pour les types de balises\n",
    "    DANGER = enum.auto(),\n",
    "    INDICATION = enum.auto()\n",
    "\n",
    "    \n",
    "class Marker:  # La classe pour les balises\n",
    "    def __init__(self, x, y, purpose, direction=None):\n",
    "        self.x = x\n",
    "        self.y = y\n",
    "        self.purpose = purpose\n",
    "        if purpose == MarkerPurpose.INDICATION:\n",
    "            if direction is not None:\n",
    "                self.direction = direction\n",
    "            else:\n",
    "                raise ValueError(\"Direction should not be none for indication marker\")\n",
    "\n",
    "    def portrayal_method(self):\n",
    "        portrayal = {\"Shape\": \"circle\",\n",
    "                     \"Filled\": \"true\",\n",
    "                     \"Layer\": 2,\n",
    "                     \"Color\": \"red\" if self.purpose == MarkerPurpose.DANGER else \"green\",\n",
    "                     \"r\": 2}\n",
    "        return portrayal"
   ]
  },
  {
   "cell_type": "markdown",
   "metadata": {},
   "source": [
    "**Question 4** – Commentez ce dernier point au regard des principes de l'architecture réactive."
   ]
  },
  {
   "cell_type": "markdown",
   "metadata": {},
   "source": [
    "*Insérez votre réponse ici*"
   ]
  },
  {
   "cell_type": "markdown",
   "metadata": {},
   "source": [
    "**Question 5** – Proposez une nouvelle manière d'organiser ces comportements et justifiez."
   ]
  },
  {
   "cell_type": "markdown",
   "metadata": {},
   "source": [
    "*Insérez votre réponse ici*"
   ]
  },
  {
   "cell_type": "markdown",
   "metadata": {},
   "source": [
    "**Question 6** – Relancez 10 simulations et incluez un graphe dans le rendu du TP. Quel est le temps moyen de désamorçage des mines? Commentez."
   ]
  },
  {
   "cell_type": "markdown",
   "metadata": {},
   "source": [
    "*Insérez votre réponse ici*"
   ]
  },
  {
   "cell_type": "markdown",
   "metadata": {},
   "source": [
    "**Question 7** – Ajoutez un reporter permettant de suivre le nombre de tours passés dans les sables mouvants. Comment les balises `DANGER` influencent-elles le temps moyen passé dans les sables mouvants ?"
   ]
  },
  {
   "cell_type": "markdown",
   "metadata": {},
   "source": [
    "*Insérez votre réponse ici*"
   ]
  },
  {
   "cell_type": "markdown",
   "metadata": {},
   "source": [
    "**Question Bonus** – Ajouter le mécanisme suivant: on suppose désormais que les agents sont capables de transmettre un signal leur permettant de savoir où se trouvent les autres. Lorsqu'un agent modifie son angle aléatoirement, faites en sorte qu'il se tourne de manière à maximiser l'angle entre sa nouvelle direction et la direction envers chacun de ses 2 pluss proches voixins. Relancez 10 expérimentations. Qu'observez-vous ?"
   ]
  },
  {
   "cell_type": "markdown",
   "metadata": {},
   "source": [
    "*Insérez votre réponse ici*"
   ]
  }
 ],
 "metadata": {
  "kernelspec": {
   "display_name": "Python 3",
   "language": "python",
   "name": "python3"
  },
  "language_info": {
   "codemirror_mode": {
    "name": "ipython",
    "version": 3
   },
   "file_extension": ".py",
   "mimetype": "text/x-python",
   "name": "python",
   "nbconvert_exporter": "python",
   "pygments_lexer": "ipython3",
   "version": "3.8.5"
  }
 },
 "nbformat": 4,
 "nbformat_minor": 4
}
